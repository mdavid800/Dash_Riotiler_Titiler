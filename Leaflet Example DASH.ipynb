{
 "cells": [
  {
   "cell_type": "code",
   "execution_count": null,
   "metadata": {},
   "outputs": [],
   "source": [
    "import leafmap.plotlymap as leafmap\n",
    "from jupyter_dash import JupyterDash\n",
    "from dash import Dash, html,dcc,Input, Output\n",
    "import dash_leaflet as dl\n",
    "import json\n",
    "import httpx"
   ]
  },
  {
   "cell_type": "code",
   "execution_count": null,
   "metadata": {},
   "outputs": [],
   "source": [
    "m = leafmap.Map()\n",
    "m.add_basemap(\"Stamen.Terrain\")\n",
    "leafmap.fix_widget_error()\n",
    "m.add_controls\n",
    "m.add_cog_layer(url=url,colormap_name =\"viridis\" )\n",
    "m.show()"
   ]
  }
 ],
 "metadata": {
  "kernelspec": {
   "display_name": "Python 3.9.12 ('PyRapidEPE')",
   "language": "python",
   "name": "python3"
  },
  "language_info": {
   "name": "python",
   "version": "3.9.12"
  },
  "orig_nbformat": 4,
  "vscode": {
   "interpreter": {
    "hash": "4e34211d4446c4dcccdae403b8cf3638c203efa59b5ea8c84d90201c883e4c51"
   }
  }
 },
 "nbformat": 4,
 "nbformat_minor": 2
}
