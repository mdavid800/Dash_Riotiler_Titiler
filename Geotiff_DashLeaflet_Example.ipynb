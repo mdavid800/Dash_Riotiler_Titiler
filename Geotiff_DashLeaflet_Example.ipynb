{
 "cells": [
  {
   "cell_type": "code",
   "execution_count": null,
   "metadata": {},
   "outputs": [],
   "source": [
    "import base64\n",
    "import rioxarray as rxr"
   ]
  },
  {
   "cell_type": "code",
   "execution_count": null,
   "metadata": {},
   "outputs": [],
   "source": [
    "\n",
    "def create_onedrive_directdownload (onedrive_link):\n",
    "    data_bytes64 = base64.b64encode(bytes(onedrive_link, 'utf-8'))\n",
    "    data_bytes64_String = data_bytes64.decode('utf-8').replace('/','_').replace('+','-').rstrip(\"=\")\n",
    "    resultUrl = f\"https://api.onedrive.com/v1.0/shares/u!{data_bytes64_String}/root/content\"\n",
    "    return resultUrl"
   ]
  },
  {
   "cell_type": "code",
   "execution_count": null,
   "metadata": {},
   "outputs": [],
   "source": [
    "#read geotiff using rioxarray and turn into xarray.Dataarray, reporject to ESPG:3857 (see Javascript code below to correct tooltip/hover)\n",
    "\n",
    "geotiff_file = r\"C:/Users/mdavi/OneDrive/Documents/GitHub/Plotly_DASH_Leaflet/ResourceFiles/WS100m.tif\"\n",
    "#dataarray = rxr.open_rasterio(geotiff_file).rio.reproject('EPSG:3857')\n",
    "dataarray = rxr.open_rasterio(geotiff_file)\n",
    "\n",
    "#geotiff_url = 'https://opendata.digitalglobe.com/events/california-fire-2020/pre-event/2018-02-16/pine-gulch-fire20/1030010076004E00.tif'\n",
    "#dl.GeoTIFFOverlay(id=GEOTIFF_ID, interactive=True, url=geotiff_file, band=0, opacity=0.9)"
   ]
  }
 ],
 "metadata": {
  "kernelspec": {
   "display_name": "Python 3.9.12 ('PyRapidEPE')",
   "language": "python",
   "name": "python3"
  },
  "language_info": {
   "name": "python",
   "version": "3.9.12"
  },
  "orig_nbformat": 4,
  "vscode": {
   "interpreter": {
    "hash": "4e34211d4446c4dcccdae403b8cf3638c203efa59b5ea8c84d90201c883e4c51"
   }
  }
 },
 "nbformat": 4,
 "nbformat_minor": 2
}
