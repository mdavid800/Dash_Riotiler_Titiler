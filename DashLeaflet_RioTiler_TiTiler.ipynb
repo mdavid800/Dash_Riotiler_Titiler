{
 "cells": [
  {
   "cell_type": "code",
   "execution_count": 1,
   "metadata": {},
   "outputs": [],
   "source": [
    "from jupyter_dash import JupyterDash\n",
    "from dash import Dash, html,dcc\n",
    "import dash_leaflet as dl\n",
    "import json\n",
    "import httpx\n",
    "from rio_tiler.io import COGReader"
   ]
  },
  {
   "cell_type": "code",
   "execution_count": 2,
   "metadata": {},
   "outputs": [],
   "source": [
    "titiler_endpoint = \"https://mfkh268xng.execute-api.us-east-1.amazonaws.com/\"  # personal endpoint. Please be kind.\n",
    "#url = \"https://rapidepe123.s3.eu-west-2.amazonaws.com/GBR_Wind_Speed_100m_ZSTD.tif\"\n",
    "url = \"https://rapidepe123.s3.eu-west-2.amazonaws.com/GBR_wind-speed_100m_COGv2.tif\"\n"
   ]
  },
  {
   "cell_type": "code",
   "execution_count": 3,
   "metadata": {},
   "outputs": [
    {
     "name": "stdout",
     "output_type": "stream",
     "text": [
      "{'bounds': BoundingBox(left=-14.888427317807158, bottom=47.968268747735536, right=3.399072682193749, top=63.888268747736326), 'minzoom': 4, 'maxzoom': 9, 'band_metadata': [('1', {})], 'band_descriptions': [('1', '')], 'dtype': 'float32', 'nodata_type': 'Nodata', 'colorinterp': ['gray'], 'driver': 'GTiff', 'width': 7315, 'nodata_value': nan, 'count': 1, 'height': 6368, 'overviews': [2, 4, 8, 16, 32, 64]}\n"
     ]
    }
   ],
   "source": [
    "with COGReader(url) as cog:\n",
    "    info = cog.info()\n",
    "print(info.dict(exclude_none=True))"
   ]
  },
  {
   "cell_type": "code",
   "execution_count": 4,
   "metadata": {},
   "outputs": [
    {
     "name": "stdout",
     "output_type": "stream",
     "text": [
      "4.905625820159912\n",
      "16.434234619140625\n"
     ]
    }
   ],
   "source": [
    "with COGReader(url) as cog:\n",
    "    stats = cog.statistics()\n",
    "\n",
    "    # assert isinstance(meta, dict)\n",
    "    # print(list(meta))\n",
    "    # print(meta[\"1\"].dict())\n",
    "\n",
    "stat_dict = stats[\"1\"].dict()\n",
    "\n",
    "minv = stat_dict['min']\n",
    "maxv = stat_dict['max']\n",
    "print(minv)\n",
    "print(maxv)"
   ]
  },
  {
   "cell_type": "code",
   "execution_count": 5,
   "metadata": {},
   "outputs": [
    {
     "name": "stdout",
     "output_type": "stream",
     "text": [
      "[7.031692981719971]\n"
     ]
    }
   ],
   "source": [
    "with COGReader(url) as cog:\n",
    "    values = cog.point(-4.2, 55)\n",
    "print(values)"
   ]
  },
  {
   "cell_type": "code",
   "execution_count": 6,
   "metadata": {},
   "outputs": [],
   "source": [
    "r = httpx.get(\n",
    "    f\"{titiler_endpoint}/cog/tilejson.json\",\n",
    "    params = {\n",
    "        \"url\": url,\n",
    "        \"rescale\": f\"{minv},{maxv}\",\n",
    "        \"colormap_name\": \"viridis\"\n",
    "    }\n",
    ").json()\n"
   ]
  },
  {
   "cell_type": "code",
   "execution_count": 20,
   "metadata": {},
   "outputs": [
    {
     "data": {
      "text/html": [
       "\n",
       "        <iframe\n",
       "            width=\"100%\"\n",
       "            height=\"650\"\n",
       "            src=\"http://127.0.0.1:8050/\"\n",
       "            frameborder=\"0\"\n",
       "            allowfullscreen\n",
       "            \n",
       "        ></iframe>\n",
       "        "
      ],
      "text/plain": [
       "<IPython.lib.display.IFrame at 0x185759d6bb0>"
      ]
     },
     "metadata": {},
     "output_type": "display_data"
    }
   ],
   "source": [
    "app = JupyterDash(__name__)\n",
    "\n",
    "# app.layout = html.Div([\n",
    "#     dl.Map([dl.TileLayer(), dl.GeoTIFFOverlay( interactive=True, url=geotiff_url, band=0, opacity=0.9)],\n",
    "#            id=\"map\", style={'width': '100%', 'height': '50vh', 'margin': \"auto\", \"display\": \"block\"})])\n",
    "#app.layout = html.Div([dcc.Graph(figure=fig)])\n",
    "# color_domain = dict(domainMin=20, domainMax=40, colorscale=['white', 'orange', 'red'])\n",
    "# color_domain2 = dict(min=20, max=40, colorscale=['white', 'orange', 'red'])\n",
    "# GEOTIFF_ID = \"geotiff-id\"\n",
    "# GEOTIFF_MARKER_ID = \"geotiff-marker-id\"\n",
    "IDs = [\"TileMap\",\"WindSpeed@100m\"]\n",
    "app.layout = html.Div([\n",
    "dl.Map(style={'width': '1000px', 'height': '500px'},\n",
    "               center=[55, -4],\n",
    "               zoom=5,\n",
    "               children=[\n",
    "            dl.LayersControl([\n",
    "                \n",
    "                   dl.Overlay(dl.LayerGroup(dl.TileLayer(url=\"https://cartodb-basemaps-{s}.global.ssl.fastly.net/light_nolabels/{z}/{x}/{y}.png\",id=\"TileMap\"))),\n",
    "                   dl.Overlay(dl.LayerGroup(dl.TileLayer(url=r[\"tiles\"][0], opacity=0.8,id=\"WindSpeed@100m\"))),\n",
    "                                \n",
    "                   dl.Colorbar(colorscale=\"viridis\", width=20, height=150, min=minv, max=maxv, unit='m/s',position=\"bottomright\"),\n",
    "                   \n",
    "])\n",
    "])\n",
    "])\n",
    "\n",
    "\n",
    "app.run_server(mode='inline')"
   ]
  },
  {
   "cell_type": "code",
   "execution_count": 8,
   "metadata": {},
   "outputs": [
    {
     "ename": "NameError",
     "evalue": "name 'create_presigned_url' is not defined",
     "output_type": "error",
     "traceback": [
      "\u001b[1;31m---------------------------------------------------------------------------\u001b[0m",
      "\u001b[1;31mNameError\u001b[0m                                 Traceback (most recent call last)",
      "\u001b[1;32mc:\\Users\\mdavi\\OneDrive\\Documents\\GitHub\\Plotly_DASH_Leaflet\\DashLeaflet_RioTiler_TiTiler.ipynb Cell 8'\u001b[0m in \u001b[0;36m<cell line: 3>\u001b[1;34m()\u001b[0m\n\u001b[0;32m      <a href='vscode-notebook-cell:/c%3A/Users/mdavi/OneDrive/Documents/GitHub/Plotly_DASH_Leaflet/DashLeaflet_RioTiler_TiTiler.ipynb#ch0000007?line=0'>1</a>\u001b[0m \u001b[39mimport\u001b[39;00m \u001b[39mrequests\u001b[39;00m    \u001b[39m# To install: pip install requests\u001b[39;00m\n\u001b[1;32m----> <a href='vscode-notebook-cell:/c%3A/Users/mdavi/OneDrive/Documents/GitHub/Plotly_DASH_Leaflet/DashLeaflet_RioTiler_TiTiler.ipynb#ch0000007?line=2'>3</a>\u001b[0m geotiff_url_tempAWS \u001b[39m=\u001b[39m create_presigned_url(\u001b[39m'\u001b[39m\u001b[39mrapidepe123\u001b[39m\u001b[39m'\u001b[39m, \u001b[39m'\u001b[39m\u001b[39mtz850.tiff\u001b[39m\u001b[39m'\u001b[39m)\n\u001b[0;32m      <a href='vscode-notebook-cell:/c%3A/Users/mdavi/OneDrive/Documents/GitHub/Plotly_DASH_Leaflet/DashLeaflet_RioTiler_TiTiler.ipynb#ch0000007?line=3'>4</a>\u001b[0m \u001b[39mif\u001b[39;00m geotiff_url_tempAWS \u001b[39mis\u001b[39;00m \u001b[39mnot\u001b[39;00m \u001b[39mNone\u001b[39;00m:\n\u001b[0;32m      <a href='vscode-notebook-cell:/c%3A/Users/mdavi/OneDrive/Documents/GitHub/Plotly_DASH_Leaflet/DashLeaflet_RioTiler_TiTiler.ipynb#ch0000007?line=4'>5</a>\u001b[0m     response \u001b[39m=\u001b[39m requests\u001b[39m.\u001b[39mget(geotiff_url_tempAWS)\n",
      "\u001b[1;31mNameError\u001b[0m: name 'create_presigned_url' is not defined"
     ]
    }
   ],
   "source": [
    "import requests    # To install: pip install requests\n",
    "\n",
    "geotiff_url_tempAWS = create_presigned_url('rapidepe123', 'tz850.tiff')\n",
    "if geotiff_url_tempAWS is not None:\n",
    "    response = requests.get(geotiff_url_tempAWS)"
   ]
  },
  {
   "cell_type": "code",
   "execution_count": null,
   "metadata": {},
   "outputs": [],
   "source": [
    "#read geotiff using rioxarray and turn into xarray.Dataarray, reporject to ESPG:3857 (see Javascript code below to correct tooltip/hover)\n",
    "\n",
    "geotiff_file = r\"C:/Users/mdavi/OneDrive/Documents/GitHub/Plotly_DASH_Leaflet/ResourceFiles/WS100m.tif\"\n",
    "#dataarray = rxr.open_rasterio(geotiff_file).rio.reproject('EPSG:3857')\n",
    "dataarray = rxr.open_rasterio(geotiff_file)\n",
    "\n",
    "#geotiff_url = 'https://opendata.digitalglobe.com/events/california-fire-2020/pre-event/2018-02-16/pine-gulch-fire20/1030010076004E00.tif'\n",
    "#dl.GeoTIFFOverlay(id=GEOTIFF_ID, interactive=True, url=geotiff_file, band=0, opacity=0.9)"
   ]
  },
  {
   "cell_type": "code",
   "execution_count": null,
   "metadata": {},
   "outputs": [],
   "source": [
    "import base64\n",
    "def create_onedrive_directdownload (onedrive_link):\n",
    "    data_bytes64 = base64.b64encode(bytes(onedrive_link, 'utf-8'))\n",
    "    data_bytes64_String = data_bytes64.decode('utf-8').replace('/','_').replace('+','-').rstrip(\"=\")\n",
    "    resultUrl = f\"https://api.onedrive.com/v1.0/shares/u!{data_bytes64_String}/root/content\"\n",
    "    return resultUrl\n",
    "\n"
   ]
  }
 ],
 "metadata": {
  "kernelspec": {
   "display_name": "Python 3.9.12 ('PyRapidEPE')",
   "language": "python",
   "name": "python3"
  },
  "language_info": {
   "codemirror_mode": {
    "name": "ipython",
    "version": 3
   },
   "file_extension": ".py",
   "mimetype": "text/x-python",
   "name": "python",
   "nbconvert_exporter": "python",
   "pygments_lexer": "ipython3",
   "version": "3.9.12"
  },
  "orig_nbformat": 4,
  "vscode": {
   "interpreter": {
    "hash": "4e34211d4446c4dcccdae403b8cf3638c203efa59b5ea8c84d90201c883e4c51"
   }
  }
 },
 "nbformat": 4,
 "nbformat_minor": 2
}
