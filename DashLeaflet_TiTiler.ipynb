{
 "cells": [
  {
   "cell_type": "code",
   "execution_count": 15,
   "metadata": {},
   "outputs": [],
   "source": [
    "from jupyter_dash import JupyterDash\n",
    "from dash import Dash, html,dcc,Input, Output\n",
    "import dash_leaflet as dl\n",
    "import json\n",
    "import httpx\n",
    "from rio_tiler.io import COGReader\n",
    "import xarray as xr"
   ]
  },
  {
   "cell_type": "code",
   "execution_count": 16,
   "metadata": {},
   "outputs": [],
   "source": [
    "titiler_endpoint = \"https://mfkh268xng.execute-api.us-east-1.amazonaws.com/\"  # personal endpoint. Please be kind.\n",
    "url = \"https://rapidepe123.s3.eu-west-2.amazonaws.com/GBR_wind-speed_100m_COGv2.tif\"\n"
   ]
  },
  {
   "cell_type": "code",
   "execution_count": 20,
   "metadata": {},
   "outputs": [
    {
     "name": "stdout",
     "output_type": "stream",
     "text": [
      "{'detail': 'Out of range float values are not JSON compliant'}\n"
     ]
    },
    {
     "ename": "KeyError",
     "evalue": "'dtype'",
     "output_type": "error",
     "traceback": [
      "\u001b[1;31m---------------------------------------------------------------------------\u001b[0m",
      "\u001b[1;31mKeyError\u001b[0m                                  Traceback (most recent call last)",
      "\u001b[1;32mc:\\Users\\mdavi\\OneDrive\\Documents\\GitHub\\Dash_Riotiler_Titiler\\DashLeaflet_TiTiler.ipynb Cell 3\u001b[0m in \u001b[0;36m<cell line: 10>\u001b[1;34m()\u001b[0m\n\u001b[0;32m      <a href='vscode-notebook-cell:/c%3A/Users/mdavi/OneDrive/Documents/GitHub/Dash_Riotiler_Titiler/DashLeaflet_TiTiler.ipynb#ch0000021?line=1'>2</a>\u001b[0m r \u001b[39m=\u001b[39m httpx\u001b[39m.\u001b[39mget(\n\u001b[0;32m      <a href='vscode-notebook-cell:/c%3A/Users/mdavi/OneDrive/Documents/GitHub/Dash_Riotiler_Titiler/DashLeaflet_TiTiler.ipynb#ch0000021?line=2'>3</a>\u001b[0m     \u001b[39mf\u001b[39m\u001b[39m\"\u001b[39m\u001b[39m{\u001b[39;00mtitiler_endpoint\u001b[39m}\u001b[39;00m\u001b[39m/cog/info\u001b[39m\u001b[39m\"\u001b[39m,\n\u001b[0;32m      <a href='vscode-notebook-cell:/c%3A/Users/mdavi/OneDrive/Documents/GitHub/Dash_Riotiler_Titiler/DashLeaflet_TiTiler.ipynb#ch0000021?line=3'>4</a>\u001b[0m     params \u001b[39m=\u001b[39m {\n\u001b[0;32m      <a href='vscode-notebook-cell:/c%3A/Users/mdavi/OneDrive/Documents/GitHub/Dash_Riotiler_Titiler/DashLeaflet_TiTiler.ipynb#ch0000021?line=4'>5</a>\u001b[0m         \u001b[39m\"\u001b[39m\u001b[39murl\u001b[39m\u001b[39m\"\u001b[39m: url,\n\u001b[0;32m      <a href='vscode-notebook-cell:/c%3A/Users/mdavi/OneDrive/Documents/GitHub/Dash_Riotiler_Titiler/DashLeaflet_TiTiler.ipynb#ch0000021?line=5'>6</a>\u001b[0m     }\n\u001b[0;32m      <a href='vscode-notebook-cell:/c%3A/Users/mdavi/OneDrive/Documents/GitHub/Dash_Riotiler_Titiler/DashLeaflet_TiTiler.ipynb#ch0000021?line=6'>7</a>\u001b[0m )\u001b[39m.\u001b[39mjson()\n\u001b[0;32m      <a href='vscode-notebook-cell:/c%3A/Users/mdavi/OneDrive/Documents/GitHub/Dash_Riotiler_Titiler/DashLeaflet_TiTiler.ipynb#ch0000021?line=8'>9</a>\u001b[0m \u001b[39mprint\u001b[39m(r)\n\u001b[1;32m---> <a href='vscode-notebook-cell:/c%3A/Users/mdavi/OneDrive/Documents/GitHub/Dash_Riotiler_Titiler/DashLeaflet_TiTiler.ipynb#ch0000021?line=9'>10</a>\u001b[0m \u001b[39mprint\u001b[39m(\u001b[39m\"\u001b[39m\u001b[39mData is of type:\u001b[39m\u001b[39m\"\u001b[39m, r[\u001b[39m\"\u001b[39;49m\u001b[39mdtype\u001b[39;49m\u001b[39m\"\u001b[39;49m])\n\u001b[0;32m     <a href='vscode-notebook-cell:/c%3A/Users/mdavi/OneDrive/Documents/GitHub/Dash_Riotiler_Titiler/DashLeaflet_TiTiler.ipynb#ch0000021?line=11'>12</a>\u001b[0m \u001b[39m# This dataset has statistics metadata\u001b[39;00m\n\u001b[0;32m     <a href='vscode-notebook-cell:/c%3A/Users/mdavi/OneDrive/Documents/GitHub/Dash_Riotiler_Titiler/DashLeaflet_TiTiler.ipynb#ch0000021?line=12'>13</a>\u001b[0m minv, maxv \u001b[39m=\u001b[39m r[\u001b[39m\"\u001b[39m\u001b[39mband_metadata\u001b[39m\u001b[39m\"\u001b[39m][\u001b[39m0\u001b[39m][\u001b[39m1\u001b[39m][\u001b[39m\"\u001b[39m\u001b[39mSTATISTICS_MINIMUM\u001b[39m\u001b[39m\"\u001b[39m], r[\u001b[39m\"\u001b[39m\u001b[39mband_metadata\u001b[39m\u001b[39m\"\u001b[39m][\u001b[39m0\u001b[39m][\u001b[39m1\u001b[39m][\u001b[39m\"\u001b[39m\u001b[39mSTATISTICS_MAXIMUM\u001b[39m\u001b[39m\"\u001b[39m]\n",
      "\u001b[1;31mKeyError\u001b[0m: 'dtype'"
     ]
    }
   ],
   "source": [
    "\n",
    "# Fetch File Metadata to get min/max rescaling values (because the file is stored as float32)\n",
    "r = httpx.get(\n",
    "    f\"{titiler_endpoint}/cog/info\",\n",
    "    params = {\n",
    "        \"url\": url,\n",
    "    }\n",
    ").json()\n",
    "\n",
    "print(r)\n",
    "print(\"Data is of type:\", r[\"dtype\"])\n",
    "\n",
    "# This dataset has statistics metadata\n",
    "minv, maxv = r[\"band_metadata\"][0][1][\"STATISTICS_MINIMUM\"], r[\"band_metadata\"][0][1][\"STATISTICS_MAXIMUM\"]\n",
    "print(\"With values from \", minv, \"to \", maxv)"
   ]
  },
  {
   "cell_type": "code",
   "execution_count": null,
   "metadata": {},
   "outputs": [],
   "source": [
    "# We could get the min/max values using the statistics endpoint\n",
    "r = httpx.get(\n",
    "    f\"{titiler_endpoint}/cog/statistics\",\n",
    "    params = {\n",
    "        \"url\": url,\n",
    "    }\n",
    ").json()\n",
    "\n",
    "print(json.dumps(r[\"1\"], indent=4))"
   ]
  },
  {
   "cell_type": "code",
   "execution_count": null,
   "metadata": {},
   "outputs": [],
   "source": [
    "r = httpx.get(\n",
    "    f\"{titiler_endpoint}/cog/tilejson.json\",\n",
    "    params = {\n",
    "        \"url\": url,\n",
    "        \"rescale\": f\"{minv},{maxv}\",\n",
    "        \"colormap_name\": \"viridis\"\n",
    "    }\n",
    ").json()\n"
   ]
  },
  {
   "cell_type": "code",
   "execution_count": null,
   "metadata": {},
   "outputs": [
    {
     "name": "stdout",
     "output_type": "stream",
     "text": [
      "10.10\n"
     ]
    }
   ],
   "source": [
    "def get_point_value(lat,lon):\n",
    "\n",
    "    with COGReader(url) as cog:\n",
    "        values = cog.point(lon,lat)\n",
    "        \n",
    "    return \"{:.2f}\".format(float(values[0]))\n",
    "    \n",
    "\n",
    "x = get_point_value(55.5,-4)\n",
    "print(x)"
   ]
  },
  {
   "cell_type": "code",
   "execution_count": null,
   "metadata": {},
   "outputs": [
    {
     "data": {
      "text/html": [
       "\n",
       "        <iframe\n",
       "            width=\"100%\"\n",
       "            height=\"650\"\n",
       "            src=\"http://127.0.0.1:8050/\"\n",
       "            frameborder=\"0\"\n",
       "            allowfullscreen\n",
       "            \n",
       "        ></iframe>\n",
       "        "
      ],
      "text/plain": [
       "<IPython.lib.display.IFrame at 0x16589b00af0>"
      ]
     },
     "metadata": {},
     "output_type": "display_data"
    }
   ],
   "source": [
    "app = JupyterDash(__name__)\n",
    "\n",
    "\n",
    "info = html.Div( id=\"info\", className=\"info\",\n",
    "                style={\"position\": \"absolute\", \"bottom\": \"10px\", \"left\": \"10px\", \"z-index\": \"1000\"})\n",
    "\n",
    "\n",
    "app.layout = html.Div([\n",
    "dl.Map(style={'width': '1000px', 'height': '500px'},\n",
    "               center=[55, -4],\n",
    "               zoom=5,\n",
    "               id = \"map\",\n",
    "               children=[\n",
    "            dl.LayersControl([\n",
    "                \n",
    "                   dl.Overlay(dl.LayerGroup(dl.TileLayer(url=\"https://cartodb-basemaps-{s}.global.ssl.fastly.net/light_nolabels/{z}/{x}/{y}.png\",id=\"TileMap\")),name=\"BaseMap\",checked=True),\n",
    "                   dl.Overlay(dl.LayerGroup(dl.TileLayer(url=r[\"tiles\"][0], opacity=0.8,id=\"WindSpeed@100m\")),name=\"WS@100m\",checked=True),\n",
    "                   dl.LayerGroup(id=\"layer\"),\n",
    "                                \n",
    "                   dl.Colorbar(colorscale=\"viridis\", width=20, height=150, min=minv, max=maxv,unit='m/s',position=\"bottomright\"),\n",
    "                   info,\n",
    "                   \n",
    "])\n",
    "])\n",
    "])\n",
    "\n",
    "@app.callback(Output(\"info\", \"children\"), [Input(\"map\", \"click_lat_lng\")])\n",
    "def map_click(click_lat_lng):\n",
    "\n",
    "    lat= click_lat_lng[0]\n",
    "    lon=click_lat_lng[1]\n",
    "    \n",
    "    return get_point_value(lat,lon)\n",
    "\n",
    "\n",
    "\n",
    "app.run_server(debug=True,mode='inline')\n"
   ]
  }
 ],
 "metadata": {
  "kernelspec": {
   "display_name": "Python 3.9.12 ('PyRapidEPE')",
   "language": "python",
   "name": "python3"
  },
  "language_info": {
   "codemirror_mode": {
    "name": "ipython",
    "version": 3
   },
   "file_extension": ".py",
   "mimetype": "text/x-python",
   "name": "python",
   "nbconvert_exporter": "python",
   "pygments_lexer": "ipython3",
   "version": "3.9.12"
  },
  "orig_nbformat": 4,
  "vscode": {
   "interpreter": {
    "hash": "4e34211d4446c4dcccdae403b8cf3638c203efa59b5ea8c84d90201c883e4c51"
   }
  }
 },
 "nbformat": 4,
 "nbformat_minor": 2
}
